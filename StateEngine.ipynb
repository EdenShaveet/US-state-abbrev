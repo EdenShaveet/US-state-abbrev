{
  "nbformat": 4,
  "nbformat_minor": 0,
  "metadata": {
    "colab": {
      "name": "StateEngine.ipynb",
      "provenance": [],
      "authorship_tag": "ABX9TyP7WpL4OmiLdCPFUNumR2Tl"
    },
    "kernelspec": {
      "name": "python3",
      "display_name": "Python 3"
    },
    "language_info": {
      "name": "python"
    }
  },
  "cells": [
    {
      "cell_type": "code",
      "execution_count": null,
      "metadata": {
        "id": "l67zUmCDCx1O"
      },
      "outputs": [],
      "source": [
        "# DICTIONARY\n",
        "# Attributions:\n",
        "# United States of America Python Dictionary to translate States,\n",
        "# Districts & Territories to Two-Letter codes and vice versa.\n",
        "#\n",
        "# Canonical URL: https://gist.github.com/rogerallen/1583593\n",
        "#\n",
        "# Dedicated to the public domain. To the extent possible under law,\n",
        "# Roger Allen has waived all copyright and related or neighboring\n",
        "# rights to this code.  Data originally from Wikipedia at the url:\n",
        "# https://en.wikipedia.org/wiki/ISO_3166-2:US\n",
        "#\n",
        "# Automatically Generated 2021-09-11 18:04:36 via Jupyter Notebook from\n",
        "# https://gist.github.com/rogerallen/d75440e8e5ea4762374dfd5c1ddf84e0 \n",
        "\n",
        "us_state_to_abbrev = {\n",
        "    \"Alabama\": \"AL\",\n",
        "    \"Alaska\": \"AK\",\n",
        "    \"Arizona\": \"AZ\",\n",
        "    \"Arkansas\": \"AR\",\n",
        "    \"California\": \"CA\",\n",
        "    \"Colorado\": \"CO\",\n",
        "    \"Connecticut\": \"CT\",\n",
        "    \"Delaware\": \"DE\",\n",
        "    \"Florida\": \"FL\",\n",
        "    \"Georgia\": \"GA\",\n",
        "    \"Hawaii\": \"HI\",\n",
        "    \"Idaho\": \"ID\",\n",
        "    \"Illinois\": \"IL\",\n",
        "    \"Indiana\": \"IN\",\n",
        "    \"Iowa\": \"IA\",\n",
        "    \"Kansas\": \"KS\",\n",
        "    \"Kentucky\": \"KY\",\n",
        "    \"Louisiana\": \"LA\",\n",
        "    \"Maine\": \"ME\",\n",
        "    \"Maryland\": \"MD\",\n",
        "    \"Massachusetts\": \"MA\",\n",
        "    \"Michigan\": \"MI\",\n",
        "    \"Minnesota\": \"MN\",\n",
        "    \"Mississippi\": \"MS\",\n",
        "    \"Missouri\": \"MO\",\n",
        "    \"Montana\": \"MT\",\n",
        "    \"Nebraska\": \"NE\",\n",
        "    \"Nevada\": \"NV\",\n",
        "    \"New Hampshire\": \"NH\",\n",
        "    \"New Jersey\": \"NJ\",\n",
        "    \"New Mexico\": \"NM\",\n",
        "    \"New York\": \"NY\",\n",
        "    \"North Carolina\": \"NC\",\n",
        "    \"North Dakota\": \"ND\",\n",
        "    \"Ohio\": \"OH\",\n",
        "    \"Oklahoma\": \"OK\",\n",
        "    \"Oregon\": \"OR\",\n",
        "    \"Pennsylvania\": \"PA\",\n",
        "    \"Rhode Island\": \"RI\",\n",
        "    \"South Carolina\": \"SC\",\n",
        "    \"South Dakota\": \"SD\",\n",
        "    \"Tennessee\": \"TN\",\n",
        "    \"Texas\": \"TX\",\n",
        "    \"Utah\": \"UT\",\n",
        "    \"Vermont\": \"VT\",\n",
        "    \"Virginia\": \"VA\",\n",
        "    \"Washington\": \"WA\",\n",
        "    \"West Virginia\": \"WV\",\n",
        "    \"Wisconsin\": \"WI\",\n",
        "    \"Wyoming\": \"WY\",\n",
        "    \"District of Columbia\": \"DC\",\n",
        "    \"American Samoa\": \"AS\",\n",
        "    \"Guam\": \"GU\",\n",
        "    \"Northern Mariana Islands\": \"MP\",\n",
        "    \"Puerto Rico\": \"PR\",\n",
        "    \"United States Minor Outlying Islands\": \"UM\",\n",
        "    \"U.S. Virgin Islands\": \"VI\",\n",
        "}\n",
        "    \n",
        "# invert the dictionary\n",
        "abbrev_to_us_state = dict(map(reversed, us_state_to_abbrev.items()))"
      ]
    },
    {
      "cell_type": "code",
      "source": [
        "# CALCULATOR\n",
        "# Attributions:\n",
        "# Code developed by Eden Shaveet. Dedicated to the public domain. All rights waived.\n",
        "\n",
        "print(\"U.S. State-to-Abbreviations and Abbreviations-to-State Calculator\")\n",
        "print(\"Directions: Select whether you would like to convert a State name into its abbreviation or an abbreviation into its full name, then enter information as prompted. The Calculator is case sensitive.\")\n",
        "go=True #loop flag\n",
        "while go==True:\n",
        "  s_or_a=input(\"Choose:\\n(1) State to abbreviation \\n(2) Abbreviation to state\\n\")\n",
        "  if s_or_a==\"1\":\n",
        "    state=input(\"State name (case sensitive):\\n\")\n",
        "    a_result= us_state_to_abbrev.get(state)\n",
        "    print(\"Abbreviation:\",a_result)\n",
        "  elif s_or_a==\"2\":\n",
        "    abbrev=input(\"Abbreviation (case sensitive):\\n\")\n",
        "    s_result= abbrev_to_us_state.get(abbrev)\n",
        "    print(\"State:\",s_result)\n",
        "  else:\n",
        "    print(\"Something went wrong. Try again.\")\n",
        "  again=input(\"Start over? ('yes' or 'no')\\n\").lower()\n",
        "  if again==\"no\":\n",
        "    go=False\n",
        "    print(\"Bye!\")\n",
        "  elif again==\"yes\":\n",
        "    go=True\n",
        "  else:\n",
        "    print(\"Something went wrong. Try again.\")"
      ],
      "metadata": {
        "colab": {
          "base_uri": "https://localhost:8080/"
        },
        "id": "c4d2VKaRDPQs",
        "outputId": "fc3209dc-93ae-4529-d18a-ebd13bad700e"
      },
      "execution_count": 42,
      "outputs": [
        {
          "output_type": "stream",
          "name": "stdout",
          "text": [
            "U.S. State-to-Abbreviations and Abbreviations-to-State Calculator\n",
            "Directions: Select whether you would like to convert a State name into its abbreviation or an abbreviation into its full name, then enter information as prompted. The Calculator is case sensitive.\n",
            "Choose:\n",
            "(1) State to abbreviation \n",
            "(2) Abbreviation to state\n",
            "2\n",
            "Abbreviation (case sensitive):\n",
            "CO\n",
            "State: Colorado\n",
            "Start over? ('yes' or 'no')\n",
            "no\n",
            "Bye!\n"
          ]
        }
      ]
    }
  ]
}